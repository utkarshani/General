# https://github.com/philipperemy/stanford-openie-python
from openie import StanfordOpenIE
import spacy

# https://stanfordnlp.github.io/CoreNLP/openie.html#api
# Default value of openie.affinity_probability_cap was 1/3.
properties = {
    'openie.affinity_probability_cap': 2 / 3, 
}
# Load English tokenizer, tagger, parser and NER
nlp = spacy.load("en_core_web_sm")

with StanfordOpenIE(properties=properties) as client:
#     text = "the gray cylinder came from the left"
#     print('Text: %s.' % text)
    
#     Nodes = {'the red ball moves', 'the gray cylinder came from the left', 'the cyan cube moves up a bit', 
#              'the gray cylinder hit the red ball', 'the gray cylinder hit the cyan cube', 'the red ball hit the cyan cube'}
    
    Nodes = {'the green cube was pushed on the left side by the purple cylinder'}
    for text in Nodes:  
        for triple in client.annotate(text):
            print('Text: %s.' % text)
            print('|-', triple)
